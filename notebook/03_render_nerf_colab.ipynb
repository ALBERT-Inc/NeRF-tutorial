{
 "cells": [
  {
   "cell_type": "markdown",
   "id": "c518ab82-8aed-4f2e-aece-9c255a93ccd5",
   "metadata": {
    "id": "c518ab82-8aed-4f2e-aece-9c255a93ccd5"
   },
   "source": [
    "# NeRFの推論 on Google Colab"
   ]
  },
  {
   "cell_type": "markdown",
   "id": "7823e269-9f2f-49ba-a424-6c3a6113e137",
   "metadata": {
    "id": "7823e269-9f2f-49ba-a424-6c3a6113e137"
   },
   "source": [
    "## 必要なモジュールのインストール"
   ]
  },
  {
   "cell_type": "code",
   "execution_count": null,
   "id": "10008e9e-5ff8-4a24-be63-670e240d23b5",
   "metadata": {
    "id": "10008e9e-5ff8-4a24-be63-670e240d23b5"
   },
   "outputs": [],
   "source": [
    "!pip install pyntcloud"
   ]
  },
  {
   "cell_type": "code",
   "execution_count": null,
   "id": "uQD5xXIBF30E",
   "metadata": {
    "id": "uQD5xXIBF30E"
   },
   "outputs": [],
   "source": [
    "!git clone https://github.com/ALBERT-Inc/NeRF-tutorial.git\n",
    "%cd \"./NeRF-tutorial\"\n",
    "!pip install --editable ./\n",
    "%cd \"../\"\n",
    "import site\n",
    "site.main()"
   ]
  },
  {
   "cell_type": "markdown",
   "id": "1c79fb82-82ff-4540-b95f-1f17a8059258",
   "metadata": {
    "id": "1c79fb82-82ff-4540-b95f-1f17a8059258"
   },
   "source": [
    "## ロード/ディレクトリ設定"
   ]
  },
  {
   "cell_type": "code",
   "execution_count": null,
   "id": "6adb03d8-92f2-468e-83ba-6bb99cdd1032",
   "metadata": {
    "id": "6adb03d8-92f2-468e-83ba-6bb99cdd1032"
   },
   "outputs": [],
   "source": [
    "import os\n",
    "import torch\n",
    "import matplotlib.pyplot as plt\n",
    "from nerf_tutorial.intrinsics import Intrinsic\n",
    "from nerf_tutorial.extrinsics import PoseExtrinsic, RVecExtrinsic\n",
    "from nerf_tutorial.nerf import NeRFConfig, NeRF, NeRFLoss\n",
    "from nerf_tutorial.visualization_utils import IpywidgetsRenderer\n",
    "from nerf_tutorial.nerf_utils import render_nerf, extract_pointcloud"
   ]
  },
  {
   "cell_type": "code",
   "execution_count": null,
   "id": "ad69f6ce-04b8-4f95-91a0-b86395b52edb",
   "metadata": {
    "id": "ad69f6ce-04b8-4f95-91a0-b86395b52edb"
   },
   "outputs": [],
   "source": [
    "base_dir = os.getcwd()\n",
    "out_dir = os.path.join(base_dir, \"results\")\n",
    "ckpt_path = os.path.join(out_dir, \"ckpt\")\n",
    "\n",
    "if not os.path.exists(out_dir):\n",
    "    os.makedirs(out_dir, exist_ok=True)"
   ]
  },
  {
   "cell_type": "code",
   "execution_count": null,
   "id": "TbzZPO8-KQr6",
   "metadata": {
    "id": "TbzZPO8-KQr6"
   },
   "outputs": [],
   "source": [
    "# download checkpoint file\n",
    "!wget \"https://github.com/ALBERT-Inc/NeRF-tutorial/blob/main/results/ckpt?raw=true\" -O $ckpt_path"
   ]
  },
  {
   "cell_type": "markdown",
   "id": "09357ad3-b4a2-4be7-aede-cc5ba26d86db",
   "metadata": {
    "id": "09357ad3-b4a2-4be7-aede-cc5ba26d86db"
   },
   "source": [
    "## NeRFの呼び出し"
   ]
  },
  {
   "cell_type": "code",
   "execution_count": null,
   "id": "1333a78e-5652-4d1d-b516-5d6b9dde4232",
   "metadata": {
    "id": "1333a78e-5652-4d1d-b516-5d6b9dde4232"
   },
   "outputs": [],
   "source": [
    "device = torch.device(\"cuda:0\")\n",
    "\n",
    "# NeRF\n",
    "config = NeRFConfig()\n",
    "nerf = NeRF(**config.nerf_kwargs())\n",
    "\n",
    "# camera parameters\n",
    "ckpt = torch.load(\n",
    "    ckpt_path, map_location=\"cpu\")[\"state_dict\"]\n",
    "pose = ckpt[\"extrinsic.pose\"].numpy()\n",
    "image_wh = ckpt[\"intrinsic.image_wh\"].numpy()\n",
    "fs = ckpt[\"intrinsic.fs\"].numpy()\n",
    "cxcy = ckpt[\"intrinsic.cxcy\"].numpy()\n",
    "\n",
    "intrinsic = Intrinsic(\n",
    "    image_wh, focals=fs, cxcy=cxcy, **config.intrinsic_kwargs())\n",
    "\n",
    "if config.nerfmm:\n",
    "    extrinsic = RVecExtrinsic(\n",
    "        len(pose), pose, **config.extrinsic_kwargs())\n",
    "else:\n",
    "    extrinsic = PoseExtrinsic(\n",
    "        len(pose), pose, **config.extrinsic_kwargs())\n",
    "\n",
    "loss_func = NeRFLoss(nerf, intrinsic=intrinsic, extrinsic=extrinsic)\n",
    "loss_func.load_state_dict(ckpt)\n",
    "loss_func.to(device)"
   ]
  },
  {
   "cell_type": "markdown",
   "id": "f24543a9-f70d-41f9-b5dc-009a797592af",
   "metadata": {
    "id": "f24543a9-f70d-41f9-b5dc-009a797592af"
   },
   "source": [
    "## レンダリング"
   ]
  },
  {
   "cell_type": "code",
   "execution_count": null,
   "id": "0f51176c-2661-45be-b67f-19503293fab4",
   "metadata": {
    "id": "0f51176c-2661-45be-b67f-19503293fab4"
   },
   "outputs": [],
   "source": [
    "idx = 0\n",
    "camera_parameters = {\n",
    "    \"w\": 300,\n",
    "    \"h\": 200,\n",
    "    \"pose\": extrinsic[[idx]],\n",
    "    \"device\": device,\n",
    "}\n",
    "\n",
    "W, H = image_wh\n",
    "cx, cy = cxcy\n",
    "fx, fy = fs\n",
    "\n",
    "camera_parameters[\"cx\"] = cx / W * camera_parameters[\"w\"]\n",
    "camera_parameters[\"cy\"] = cy / H * camera_parameters[\"h\"]\n",
    "camera_parameters[\"fx\"] = fx / W * camera_parameters[\"w\"]\n",
    "camera_parameters[\"fy\"] = fy / H * camera_parameters[\"h\"]"
   ]
  },
  {
   "cell_type": "code",
   "execution_count": null,
   "id": "2004c0f2-85a2-4386-bfd9-89da8402420c",
   "metadata": {
    "id": "2004c0f2-85a2-4386-bfd9-89da8402420c"
   },
   "outputs": [],
   "source": [
    "# render single image\n",
    "img = render_nerf(nerf, camera_parameters, only_coarse=False)\n",
    "plt.imshow(img)\n",
    "plt.show()"
   ]
  },
  {
   "cell_type": "code",
   "execution_count": null,
   "id": "a089c628-fe2e-49f8-8845-2d07769b4d69",
   "metadata": {
    "id": "a089c628-fe2e-49f8-8845-2d07769b4d69"
   },
   "outputs": [],
   "source": [
    "# renderer with controller\n",
    "IpywidgetsRenderer(nerf, camera_parameters, only_coarse=True)"
   ]
  },
  {
   "cell_type": "markdown",
   "id": "c9211931-594d-4372-897b-8683755e7475",
   "metadata": {
    "id": "c9211931-594d-4372-897b-8683755e7475"
   },
   "source": [
    "## 点群抽出"
   ]
  },
  {
   "cell_type": "code",
   "execution_count": null,
   "id": "29192be9-74b4-4e24-a8f2-0a27c418dd2b",
   "metadata": {
    "id": "29192be9-74b4-4e24-a8f2-0a27c418dd2b"
   },
   "outputs": [],
   "source": [
    "pcd = extract_pointcloud(\n",
    "    nerf, num_grid_edge=100, sigma_threshold=50, device=device)\n",
    "pcd.to_file(os.path.join(out_dir, \"nerf_repro.ply\"))"
   ]
  },
  {
   "cell_type": "code",
   "execution_count": null,
   "id": "e2813ee1-f400-4433-8bd8-e0a6c4a30f4d",
   "metadata": {
    "id": "e2813ee1-f400-4433-8bd8-e0a6c4a30f4d"
   },
   "outputs": [],
   "source": []
  }
 ],
 "metadata": {
  "accelerator": "GPU",
  "colab": {
   "collapsed_sections": [],
   "name": "render_nerf.ipynb",
   "provenance": []
  },
  "kernelspec": {
   "display_name": "Python 3",
   "language": "python",
   "name": "python3"
  },
  "language_info": {
   "codemirror_mode": {
    "name": "ipython",
    "version": 3
   },
   "file_extension": ".py",
   "mimetype": "text/x-python",
   "name": "python",
   "nbconvert_exporter": "python",
   "pygments_lexer": "ipython3",
   "version": "3.6.9"
  }
 },
 "nbformat": 4,
 "nbformat_minor": 5
}
